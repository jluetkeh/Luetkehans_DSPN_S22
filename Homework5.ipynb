{
 "cells": [
  {
   "cell_type": "markdown",
   "metadata": {
    "id": "szkkhiCZDF52"
   },
   "source": [
    "# Homework 5:  Linear models, continued\n",
    "This homework assignment is designed to give you a deeper understanding of linear models. First, we'll dive into the math behind the closed-form solution of maximum likelihood estimation. **In the first section below, write your answers using Latex equation formatting.**\n",
    "\n",
    "*Note: Check out [this page](https://gtribello.github.io/mathNET/assets/notebook-writing.html) and [this page](https://towardsdatascience.com/write-markdown-latex-in-the-jupyter-notebook-10985edb91fd) for resources on how to do Latex formatting. You can also double click on the question cells in this notebook to see how math is formatted in the questions.*\n"
   ]
  },
  {
   "cell_type": "markdown",
   "metadata": {
    "id": "QJscNReoylRt"
   },
   "source": [
    "---\n",
    "## 1. Deriving the Maximum Likelihood Estimate for Simple Linear Regression (6 points)"
   ]
  },
  {
   "cell_type": "markdown",
   "metadata": {
    "id": "nH82gwuymPi0"
   },
   "source": [
    "Using the mean squared error (MSE) as your objective function (the thing you're trying to minimize when you fit your model) allows for a closed form solution to finding the maximum likelihood estimate (MLE) of your model parameters in linear regression. Let’s consider the simple, single predictor variable model, i.e. simple linear regression :  $Y= \\beta_0 + \\beta_1 X $. \n",
    "\n",
    "a) Use algebra to show how you can expand out $MSE(\\beta_0, \\beta_1)$ to get from i to ii below.\n",
    "\n",
    "> _i)_ $E[ (Y-(\\beta_0 + \\beta_1 X))^2]$\n",
    "\n",
    "> _ii)_ $E[Y^2] -2 \\beta_0E[Y]-2 \\beta_1 Cov[X,Y]-2 \\beta_1 E[X]E[Y]+ \\beta_0^2 +2 \\beta_0 \\beta_1 E[X]+\\beta_1^2 Var[X]+ \\beta_1^2 (E[X])^2$\n",
    "\n",
    "\n",
    "\n",
    "\n"
   ]
  },
  {
   "cell_type": "markdown",
   "metadata": {
    "id": "dn2hveNho-Of"
   },
   "source": [
    "**Answer:**\n",
    "\n",
    "> _i)_ $E[ (Y-(\\beta_0 + \\beta_1 X)) (Y-(\\beta_0 + \\beta_1 X))]$\n",
    "\n",
    "> _ii)_ $E[ Y^2 - Y (\\beta_0 + \\beta_1 X) - Y (\\beta_0 + \\beta_1 X) + (\\beta_0 + \\beta_1 X)^2]$\n",
    "\n",
    ">_iii)_ $E[ Y^2 - Y \\beta_0 - Y \\beta_1 X - Y \\beta_0 - Y \\beta_1 X + \\beta_0^2 + \\beta_0 \\beta_1 X + \\beta_0 \\beta_1 X + \\beta_1^2 X^2]$\n",
    "\n",
    ">_iv)_ $E[ Y^2 - 2 Y \\beta_0 - 2 Y \\beta_1 X + \\beta_0^2 + 2 \\beta_0 \\beta_1 X + \\beta_1^2 X^2]$\n",
    "\n",
    ">_v)_ $E[Y^2] -2 \\beta_0E[Y]-2 \\beta_1 Cov[X,Y]-2 \\beta_1 E[X]E[Y]+ \\beta_0^2 +2 \\beta_0 \\beta_1 E[X]+\\beta_1^2 Var[X]+ \\beta_1^2 (E[X])^2$\n",
    "\n",
    "I had to look back at the lecture to understand where the Cov[X, Y] term and Var[X] came from, but now I understand.  I'm still not sure if I've detailed the algebraic steps well enough, though."
   ]
  },
  {
   "cell_type": "markdown",
   "metadata": {
    "id": "GCr46r9xwRXP"
   },
   "source": [
    "b) Prove that the MLE of $\\beta_0$ is $E[Y]- \\beta_1 E[X]$ by taking the derivative of _ii_ above, with respect to $\\beta_0$, setting the derivative to zero, and solving for $\\beta_0$.\n",
    "\n"
   ]
  },
  {
   "cell_type": "markdown",
   "metadata": {
    "id": "Ul-PZyLbwTCQ"
   },
   "source": [
    "**Answer:**\n",
    "\n",
    "> _i)_ $\\frac{d}{d \\beta_0} E[Y^2] -2 \\beta_0E[Y]-2 \\beta_1 Cov[X,Y]-2 \\beta_1 E[X]E[Y]+ \\beta_0^2 +2 \\beta_0 \\beta_1 E[X]+\\beta_1^2 Var[X]+ \\beta_1^2 (E[X])^2$\n",
    "\n",
    "Removing constant terms leaves us with:\n",
    "\n",
    "> _ii)_ $\\frac{d}{d \\beta_0} -2 \\beta_0 E[Y] + \\beta_0^2 + 2 \\beta_0 \\beta_1 E[X]$\n",
    "\n",
    "Take the derivative:\n",
    "\n",
    "> _iii)_ $ -2E[Y] + 2 \\beta_0 + 2 \\beta_1 E[X] = 0$\n",
    "\n",
    "Factor out the 2 and simplify: \n",
    "\n",
    "> _iv)_ $ -E[Y] + \\beta_0 + \\beta_1 E[X] = 0$\n",
    "\n",
    "> _v)_ $ -E[Y] + \\beta_1 E[X] = - \\beta_0$\n",
    "\n",
    "> _vi)_ $ \\beta_0 = E[Y] - \\beta_1 E[X]$"
   ]
  },
  {
   "cell_type": "markdown",
   "metadata": {
    "id": "-uv4Z7afw4gB"
   },
   "source": [
    "c) Prove that the MLE for $\\beta_1$ is $Cov[X,Y]/Var[X]$ by taking the derivative of equation _ii_ above, with respect to $\\beta_1$, setting the derivative to zero, and solving for $\\beta_1$. *Hint: after you've simplified / expanded a bit, plug in the solution for $\\beta_0$ from part b.*"
   ]
  },
  {
   "cell_type": "markdown",
   "metadata": {
    "id": "sWTFZ6ZSw6sh"
   },
   "source": [
    "**Answer:**\n",
    "\n",
    "> _i)_ $\\frac{d}{d \\beta_1} E[Y^2] -2 \\beta_0E[Y]-2 \\beta_1 Cov[X,Y]-2 \\beta_1 E[X]E[Y]+ \\beta_0^2 +2 \\beta_0 \\beta_1 E[X]+\\beta_1^2 Var[X]+ \\beta_1^2 (E[X])^2$\n",
    "\n",
    "Removing constant terms leaves us with:\n",
    "\n",
    "> _ii)_ $\\frac{d}{d \\beta_1} -2 \\beta_1 Cov[XY] - 2\\beta_1 E[X][Y] + 2 \\beta_0 \\beta_1 E[X] + \\beta_1^2 Var[X] + \\beta_1^2 E[X]^2$\n",
    "\n",
    "Take the derivative and factor out the 2, leaving you with:\n",
    "\n",
    "> _iii)_ $ -Cov[XY]- E[X][Y] + \\beta_0 E[X] + \\beta_1 Var[X] + \\beta_1 E[X]^2 = 0$\n",
    "\n",
    "Substitue $ -E[XY] + Cov[XY]$ for $E[X]E[Y] $, cancel out $Cov[XY]$'s\n",
    "\n",
    "> _iv)_ $ -E[XY] + \\beta_0 E[X] + \\beta_1 Var[X] + \\beta_1 E[X]^2 =0$\n",
    "\n",
    "substitue in solution for $\\beta_0$, cancel out $\\beta_1 E[X]^2$'s\n",
    "\n",
    "> _v)_ $ -E[XY] + E[X][Y] + \\beta_1 Var[X]$ = 0\n",
    "\n",
    "substitute in $Cov[XY]$ for $E[XY] - E[X]E[Y]$\n",
    "\n",
    "> _vi)_ $Cov[XY] = \\beta_1 Var[X]$\n",
    "\n",
    "> _vii)_ $\\beta_1 = \\frac{Cov[XY]}{Var[X]}$"
   ]
  },
  {
   "cell_type": "markdown",
   "metadata": {
    "id": "66X264ZpDF58"
   },
   "source": [
    "---\n",
    "## 2. Connecting to data (4 points)\n",
    "\n",
    "Now let's connect this to some real data. Once again we'll be using the  **unrestricted_trimmed_1_7_2020_10_50_44.csv** file from the *Homework/hcp_data* folder in the class GitHub repository. \n",
    "\n",
    "​\n",
    "This data is a portion of the [Human Connectome Project database](http://www.humanconnectomeproject.org/). It provides measures of cognitive tasks and brain morphology measurements from 1206 participants. The full description of each variable is provided in the **HCP_S1200_DataDictionary_April_20_2018.csv** file in the *Homework/hcp_data* folder in the class GitHub repository. \n",
    "\n",
    "a) Use the `setwd` and `read.csv` functions to load data from the **unrestricted_trimmed_1_7_2020_10_50_44.csv** file. Then use the `tidyverse` tools make a new dataframe `d1` that only inclues the subject ID (`Subject`), Flanker Task performance (`Flanker_Unadj`), and total grey matter volume (`FS_Total_GM_Vol`) variables and remove all _NA_ values.\n",
    "\n",
    "Use the `head` function to look at the first few rows of each data frame. "
   ]
  },
  {
   "cell_type": "code",
   "execution_count": 2,
   "metadata": {
    "colab": {
     "base_uri": "https://localhost:8080/",
     "height": 1000
    },
    "executionInfo": {
     "elapsed": 5637,
     "status": "ok",
     "timestamp": 1616440721755,
     "user": {
      "displayName": "Patience Stevens",
      "photoUrl": "https://lh3.googleusercontent.com/a-/AOh14Gi-_9ZqhIFhAv1oMehJNvNuIKSTyrFQHzjxQKhx=s64",
      "userId": "01994571539255174942"
     },
     "user_tz": 240
    },
    "id": "PZ0lngBjDF58",
    "outputId": "a3c4f688-d665-4d79-8250-56c4d45465e2"
   },
   "outputs": [
    {
     "name": "stderr",
     "output_type": "stream",
     "text": [
      "Warning message:\n",
      "“package ‘ggthemes’ was built under R version 3.6.2”\n",
      "Warning message:\n",
      "“package ‘tidyverse’ was built under R version 3.6.2”\n",
      "── \u001b[1mAttaching packages\u001b[22m ─────────────────────────────────────── tidyverse 1.3.1 ──\n",
      "\n",
      "\u001b[32m✔\u001b[39m \u001b[34mggplot2\u001b[39m 3.3.3     \u001b[32m✔\u001b[39m \u001b[34mpurrr  \u001b[39m 0.3.4\n",
      "\u001b[32m✔\u001b[39m \u001b[34mtibble \u001b[39m 3.1.2     \u001b[32m✔\u001b[39m \u001b[34mdplyr  \u001b[39m 1.0.7\n",
      "\u001b[32m✔\u001b[39m \u001b[34mtidyr  \u001b[39m 1.1.3     \u001b[32m✔\u001b[39m \u001b[34mstringr\u001b[39m 1.4.0\n",
      "\u001b[32m✔\u001b[39m \u001b[34mreadr  \u001b[39m 1.4.0     \u001b[32m✔\u001b[39m \u001b[34mforcats\u001b[39m 0.5.1\n",
      "\n",
      "Warning message:\n",
      "“package ‘ggplot2’ was built under R version 3.6.2”\n",
      "Warning message:\n",
      "“package ‘tibble’ was built under R version 3.6.2”\n",
      "Warning message:\n",
      "“package ‘tidyr’ was built under R version 3.6.2”\n",
      "Warning message:\n",
      "“package ‘readr’ was built under R version 3.6.2”\n",
      "Warning message:\n",
      "“package ‘purrr’ was built under R version 3.6.2”\n",
      "Warning message:\n",
      "“package ‘dplyr’ was built under R version 3.6.2”\n",
      "Warning message:\n",
      "“package ‘forcats’ was built under R version 3.6.2”\n",
      "── \u001b[1mConflicts\u001b[22m ────────────────────────────────────────── tidyverse_conflicts() ──\n",
      "\u001b[31m✖\u001b[39m \u001b[34mdplyr\u001b[39m::\u001b[32mfilter()\u001b[39m masks \u001b[34mstats\u001b[39m::filter()\n",
      "\u001b[31m✖\u001b[39m \u001b[34mdplyr\u001b[39m::\u001b[32mlag()\u001b[39m    masks \u001b[34mstats\u001b[39m::lag()\n",
      "\n",
      "Warning message:\n",
      "“package ‘here’ was built under R version 3.6.2”\n",
      "here() starts at /Users/josephluetkehans/Documents/GitHub/Luetkehans_DSPN_S22\n",
      "\n",
      "Warning message:\n",
      "“package ‘skimr’ was built under R version 3.6.2”\n",
      "Warning message:\n",
      "“package ‘janitor’ was built under R version 3.6.2”\n",
      "\n",
      "Attaching package: ‘janitor’\n",
      "\n",
      "\n",
      "The following objects are masked from ‘package:stats’:\n",
      "\n",
      "    chisq.test, fisher.test\n",
      "\n",
      "\n",
      "Warning message:\n",
      "“package ‘psych’ was built under R version 3.6.2”\n",
      "\n",
      "Attaching package: ‘psych’\n",
      "\n",
      "\n",
      "The following objects are masked from ‘package:ggplot2’:\n",
      "\n",
      "    %+%, alpha\n",
      "\n",
      "\n",
      "Warning message:\n",
      "“package ‘reshape2’ was built under R version 3.6.2”\n",
      "\n",
      "Attaching package: ‘reshape2’\n",
      "\n",
      "\n",
      "The following object is masked from ‘package:tidyr’:\n",
      "\n",
      "    smiths\n",
      "\n",
      "\n"
     ]
    }
   ],
   "source": [
    "library(ggthemes)\n",
    "library(tidyverse)\n",
    "library(here)\n",
    "library(skimr)\n",
    "library(janitor)\n",
    "library(psych)\n",
    "library(reshape2)\n",
    "library(dplyr)"
   ]
  },
  {
   "cell_type": "code",
   "execution_count": 3,
   "metadata": {},
   "outputs": [
    {
     "data": {
      "text/html": [
       "'/Users/josephluetkehans/Documents/GitHub/Luetkehans_DSPN_S22/data'"
      ],
      "text/latex": [
       "'/Users/josephluetkehans/Documents/GitHub/Luetkehans\\_DSPN\\_S22/data'"
      ],
      "text/markdown": [
       "'/Users/josephluetkehans/Documents/GitHub/Luetkehans_DSPN_S22/data'"
      ],
      "text/plain": [
       "[1] \"/Users/josephluetkehans/Documents/GitHub/Luetkehans_DSPN_S22/data\""
      ]
     },
     "metadata": {},
     "output_type": "display_data"
    },
    {
     "data": {
      "text/html": [
       "<table class=\"dataframe\">\n",
       "<caption>A data.frame: 6 × 3</caption>\n",
       "<thead>\n",
       "\t<tr><th></th><th scope=col>subject</th><th scope=col>flanker_unadj</th><th scope=col>fs_total_gm_vol</th></tr>\n",
       "\t<tr><th></th><th scope=col>&lt;int&gt;</th><th scope=col>&lt;dbl&gt;</th><th scope=col>&lt;int&gt;</th></tr>\n",
       "</thead>\n",
       "<tbody>\n",
       "\t<tr><th scope=row>2</th><td>100206</td><td>130.42</td><td>807245</td></tr>\n",
       "\t<tr><th scope=row>3</th><td>100307</td><td>112.56</td><td>664124</td></tr>\n",
       "\t<tr><th scope=row>4</th><td>100408</td><td>121.18</td><td>726206</td></tr>\n",
       "\t<tr><th scope=row>5</th><td>100610</td><td>126.53</td><td>762308</td></tr>\n",
       "\t<tr><th scope=row>6</th><td>101006</td><td>101.85</td><td>579632</td></tr>\n",
       "\t<tr><th scope=row>7</th><td>101107</td><td>107.04</td><td>665024</td></tr>\n",
       "</tbody>\n",
       "</table>\n"
      ],
      "text/latex": [
       "A data.frame: 6 × 3\n",
       "\\begin{tabular}{r|lll}\n",
       "  & subject & flanker\\_unadj & fs\\_total\\_gm\\_vol\\\\\n",
       "  & <int> & <dbl> & <int>\\\\\n",
       "\\hline\n",
       "\t2 & 100206 & 130.42 & 807245\\\\\n",
       "\t3 & 100307 & 112.56 & 664124\\\\\n",
       "\t4 & 100408 & 121.18 & 726206\\\\\n",
       "\t5 & 100610 & 126.53 & 762308\\\\\n",
       "\t6 & 101006 & 101.85 & 579632\\\\\n",
       "\t7 & 101107 & 107.04 & 665024\\\\\n",
       "\\end{tabular}\n"
      ],
      "text/markdown": [
       "\n",
       "A data.frame: 6 × 3\n",
       "\n",
       "| <!--/--> | subject &lt;int&gt; | flanker_unadj &lt;dbl&gt; | fs_total_gm_vol &lt;int&gt; |\n",
       "|---|---|---|---|\n",
       "| 2 | 100206 | 130.42 | 807245 |\n",
       "| 3 | 100307 | 112.56 | 664124 |\n",
       "| 4 | 100408 | 121.18 | 726206 |\n",
       "| 5 | 100610 | 126.53 | 762308 |\n",
       "| 6 | 101006 | 101.85 | 579632 |\n",
       "| 7 | 101107 | 107.04 | 665024 |\n",
       "\n"
      ],
      "text/plain": [
       "  subject flanker_unadj fs_total_gm_vol\n",
       "2 100206  130.42        807245         \n",
       "3 100307  112.56        664124         \n",
       "4 100408  121.18        726206         \n",
       "5 100610  126.53        762308         \n",
       "6 101006  101.85        579632         \n",
       "7 101107  107.04        665024         "
      ]
     },
     "metadata": {},
     "output_type": "display_data"
    }
   ],
   "source": [
    "getwd()\n",
    "setwd(\"/Users/josephluetkehans/Documents/GitHub/Luetkehans_DSPN_S22/data\")\n",
    "data <- read.csv(\"unrestricted_trimmed_1_7_2020_10_50_44 copy.csv\")\n",
    "\n",
    "d1 <- data %>%\n",
    "subset(select = c(Subject, Flanker_Unadj, FS_Total_GM_Vol)) %>%\n",
    "na.omit() %>%\n",
    "clean_names()\n",
    "\n",
    "head(d1)"
   ]
  },
  {
   "cell_type": "markdown",
   "metadata": {
    "id": "J3owDQ0U2Ewn"
   },
   "source": [
    "b) Now we're going to see if the solutions we proved above actually line up with the model fit that R gives us (it should...). Calculate what the $\\beta_0$ and $\\beta_1$ coefficients should be for a simple linear regression model using `Flanker_Unadj` as $Y$ and `FS_Total_GM_Vol` as $X$. Use the formulas we derived above ($\\beta_1 = Cov[XY]/Var[X]$ , $\\beta_0 = E[Y] - \\beta_1E[X]$). Then use `lm()` to compare the coefficients you calculated with the ones R gives you. "
   ]
  },
  {
   "cell_type": "code",
   "execution_count": 12,
   "metadata": {
    "colab": {
     "base_uri": "https://localhost:8080/",
     "height": 391
    },
    "executionInfo": {
     "elapsed": 553,
     "status": "ok",
     "timestamp": 1614907277511,
     "user": {
      "displayName": "Patience Stevens",
      "photoUrl": "https://lh3.googleusercontent.com/a-/AOh14Gi-_9ZqhIFhAv1oMehJNvNuIKSTyrFQHzjxQKhx=s64",
      "userId": "01994571539255174942"
     },
     "user_tz": 300
    },
    "id": "mWvD8shRDF5_",
    "outputId": "02f91143-c36c-4e9d-dce1-d81f4cbd71b4"
   },
   "outputs": [
    {
     "data": {
      "text/html": [
       "'beta_1: 3.10996547106463e-05'"
      ],
      "text/latex": [
       "'beta\\_1: 3.10996547106463e-05'"
      ],
      "text/markdown": [
       "'beta_1: 3.10996547106463e-05'"
      ],
      "text/plain": [
       "[1] \"beta_1: 3.10996547106463e-05\""
      ]
     },
     "metadata": {},
     "output_type": "display_data"
    },
    {
     "data": {
      "text/html": [
       "'beta_0: 90.2564608190943'"
      ],
      "text/latex": [
       "'beta\\_0: 90.2564608190943'"
      ],
      "text/markdown": [
       "'beta_0: 90.2564608190943'"
      ],
      "text/plain": [
       "[1] \"beta_0: 90.2564608190943\""
      ]
     },
     "metadata": {},
     "output_type": "display_data"
    },
    {
     "data": {
      "text/plain": [
       "\n",
       "Call:\n",
       "lm(formula = flanker_unadj ~ fs_total_gm_vol, data = d1)\n",
       "\n",
       "Residuals:\n",
       "     Min       1Q   Median       3Q      Max \n",
       "-28.2280  -6.5969  -0.0119   6.5497  31.0108 \n",
       "\n",
       "Coefficients:\n",
       "                 Estimate Std. Error t value Pr(>|t|)    \n",
       "(Intercept)     9.026e+01  3.041e+00  29.677  < 2e-16 ***\n",
       "fs_total_gm_vol 3.110e-05  4.412e-06   7.048 3.18e-12 ***\n",
       "---\n",
       "Signif. codes:  0 ‘***’ 0.001 ‘**’ 0.01 ‘*’ 0.05 ‘.’ 0.1 ‘ ’ 1\n",
       "\n",
       "Residual standard error: 9.864 on 1111 degrees of freedom\n",
       "Multiple R-squared:  0.0428,\tAdjusted R-squared:  0.04194 \n",
       "F-statistic: 49.68 on 1 and 1111 DF,  p-value: 3.177e-12\n"
      ]
     },
     "metadata": {},
     "output_type": "display_data"
    },
    {
     "data": {
      "text/html": [
       "<style>\n",
       ".dl-inline {width: auto; margin:0; padding: 0}\n",
       ".dl-inline>dt, .dl-inline>dd {float: none; width: auto; display: inline-block}\n",
       ".dl-inline>dt::after {content: \":\\0020\"; padding-right: .5ex}\n",
       ".dl-inline>dt:not(:first-of-type) {padding-left: .5ex}\n",
       "</style><dl class=dl-inline><dt>(Intercept)</dt><dd>90.2564608190944</dd><dt>fs_total_gm_vol</dt><dd>3.10996547106465e-05</dd></dl>\n"
      ],
      "text/latex": [
       "\\begin{description*}\n",
       "\\item[(Intercept)] 90.2564608190944\n",
       "\\item[fs\\textbackslash{}\\_total\\textbackslash{}\\_gm\\textbackslash{}\\_vol] 3.10996547106465e-05\n",
       "\\end{description*}\n"
      ],
      "text/markdown": [
       "(Intercept)\n",
       ":   90.2564608190944fs_total_gm_vol\n",
       ":   3.10996547106465e-05\n",
       "\n"
      ],
      "text/plain": [
       "    (Intercept) fs_total_gm_vol \n",
       "   9.025646e+01    3.109965e-05 "
      ]
     },
     "metadata": {},
     "output_type": "display_data"
    }
   ],
   "source": [
    "beta_1 <- cov(d1$fs_total_gm_vol, d1$flanker_unadj) / var(d1$fs_total_gm_vol)\n",
    "\n",
    "beta_0 <- mean(d1$flanker_unadj) - (beta_1 * mean(d1$fs_total_gm_vol))\n",
    "\n",
    "sprintf(\"beta_1: %s\", beta_1)\n",
    "sprintf(\"beta_0: %s\", beta_0)\n",
    "\n",
    "d1_lm = lm(flanker_unadj~fs_total_gm_vol, data = d1)\n",
    "\n",
    "summary(d1_lm)\n",
    "coef(d1_lm)\n"
   ]
  },
  {
   "cell_type": "markdown",
   "metadata": {},
   "source": [
    "The intercept and beta_1 match for both the manual calculation and the lm() function.  "
   ]
  },
  {
   "cell_type": "markdown",
   "metadata": {
    "id": "xcnXbsZvDF6B"
   },
   "source": [
    "**DUE:** 5pm EST, March 15, 2022"
   ]
  },
  {
   "cell_type": "markdown",
   "metadata": {
    "id": "aG5swCweDF6B"
   },
   "source": [
    "**IMPORTANT** Did you collaborate with anyone on this assignment? If so, list their names here. \n",
    "> *Someone's Name*"
   ]
  }
 ],
 "metadata": {
  "colab": {
   "collapsed_sections": [],
   "name": "Homework5_solutions.ipynb",
   "provenance": []
  },
  "kernelspec": {
   "display_name": "R",
   "language": "R",
   "name": "ir"
  },
  "language_info": {
   "codemirror_mode": "r",
   "file_extension": ".r",
   "mimetype": "text/x-r-source",
   "name": "R",
   "pygments_lexer": "r",
   "version": "3.6.0"
  }
 },
 "nbformat": 4,
 "nbformat_minor": 1
}
