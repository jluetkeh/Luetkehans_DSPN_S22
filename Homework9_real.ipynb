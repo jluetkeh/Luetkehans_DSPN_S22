{
 "cells": [
  {
   "cell_type": "markdown",
   "metadata": {
    "id": "-2W919d2ZXp7"
   },
   "source": [
    "# Homework 9: Mediation & Power Analyses"
   ]
  },
  {
   "cell_type": "markdown",
   "metadata": {
    "id": "L4nOzVhyZXqK"
   },
   "source": [
    "This homework assignment is designed to give you practice with mediation, and with using Monte Carlo methods to conduct power analyses via simulation. You won't need to load in any data for this homework."
   ]
  },
  {
   "cell_type": "markdown",
   "metadata": {
    "id": "9DsyBTB6ZXqN"
   },
   "source": [
    "---\n",
    "## 1. Simulating data (2 points)\n"
   ]
  },
  {
   "cell_type": "markdown",
   "metadata": {
    "id": "J1f6MywYhyzN"
   },
   "source": [
    "In this homework, we're going to simulate the relationship between age, word reading experience, and reading comprehension skill. Older children tend to be better at reading comprehension tasks, but this isn't just an inherent part of getting older. It's a combination of gaining more experience with reading, oral language skills, and executive functions development. In this homework, though, we're going to simplify this relationship down to a direct effect of age on reading comprehension (since improvements in oral language skills and executive functions are more guaranteed as children age than reading practice is), and a mediation of word reading experience.\n",
    "\n",
    "In graphical form: \n",
    "![picture](https://drive.google.com/uc?id=1wdm9xuiJhBJor99-9GnicO2_rzkGWtfN)"
   ]
  },
  {
   "cell_type": "markdown",
   "metadata": {
    "id": "qMpQX_ogjkyQ"
   },
   "source": [
    "Writing the relationship out formally: \n",
    "\n",
    "$$x = \\beta_{xa} a + \\beta_{x0} + \\epsilon_{x}$$\n",
    "\n",
    "$$c = \\beta_{ca} a + \\beta_{cx} x + \\beta_{c0} + \\epsilon_c$$\n",
    "\n"
   ]
  },
  {
   "cell_type": "markdown",
   "metadata": {
    "id": "5FidlpJlmKi8"
   },
   "source": [
    "$c$ is reading comprehension, $x$ is word reading experience, and $a$ is age. $\\beta_{c0}$ and $\\beta_{x0}$ are intercept terms for their respective formulas, and $\\epsilon_{c}$ and $\\epsilon_{x}$ are gaussian noise terms. We'll start by writing a function, `simulate_data`, that can simulate this relationship. The input values are set and the function structure is provided below. Complete the function such that it takes in those input variables and generates $age$, $x$, and $c$ values. Use `runif()` to generate ages. Use `rnorm()` to generate the noise terms. "
   ]
  },
  {
   "cell_type": "code",
   "execution_count": 1,
   "metadata": {
    "colab": {
     "base_uri": "https://localhost:8080/",
     "height": 274
    },
    "executionInfo": {
     "elapsed": 373,
     "status": "ok",
     "timestamp": 1619476621271,
     "user": {
      "displayName": "Patience Stevens",
      "photoUrl": "https://lh3.googleusercontent.com/a-/AOh14Gi-_9ZqhIFhAv1oMehJNvNuIKSTyrFQHzjxQKhx=s64",
      "userId": "01994571539255174942"
     },
     "user_tz": 240
    },
    "id": "UnBVazYfZXqP",
    "outputId": "cf7c3a72-58e3-4697-d5bb-9d7b8cd4aa76"
   },
   "outputs": [
    {
     "data": {
      "text/html": [
       "<table class=\"dataframe\">\n",
       "<caption>A data.frame: 100 × 3</caption>\n",
       "<thead>\n",
       "\t<tr><th scope=col>age</th><th scope=col>x</th><th scope=col>c</th></tr>\n",
       "\t<tr><th scope=col>&lt;dbl&gt;</th><th scope=col>&lt;dbl&gt;</th><th scope=col>&lt;dbl&gt;</th></tr>\n",
       "</thead>\n",
       "<tbody>\n",
       "\t<tr><td>193.35634</td><td>172.46975</td><td>1234.6240</td></tr>\n",
       "\t<tr><td>151.71249</td><td>106.23128</td><td>1030.7565</td></tr>\n",
       "\t<tr><td>153.50371</td><td>178.27817</td><td>1030.8008</td></tr>\n",
       "\t<tr><td>159.54579</td><td>113.42089</td><td>1014.7738</td></tr>\n",
       "\t<tr><td>117.10238</td><td>188.24716</td><td>1148.1027</td></tr>\n",
       "\t<tr><td>149.80362</td><td> 89.29308</td><td> 829.3347</td></tr>\n",
       "\t<tr><td>184.76902</td><td> 63.92314</td><td> 879.9070</td></tr>\n",
       "\t<tr><td>125.39324</td><td>115.23982</td><td> 921.9536</td></tr>\n",
       "\t<tr><td>123.75059</td><td>191.66910</td><td>1263.2273</td></tr>\n",
       "\t<tr><td>193.82764</td><td>207.61256</td><td>1193.9644</td></tr>\n",
       "\t<tr><td>132.41002</td><td>103.21759</td><td> 959.2061</td></tr>\n",
       "\t<tr><td>192.63324</td><td>177.02935</td><td>1112.2806</td></tr>\n",
       "\t<tr><td>136.32424</td><td>130.26913</td><td> 983.8593</td></tr>\n",
       "\t<tr><td>174.32868</td><td>167.43215</td><td>1033.3116</td></tr>\n",
       "\t<tr><td>128.47832</td><td>170.53507</td><td>1010.0493</td></tr>\n",
       "\t<tr><td>188.76863</td><td> 55.12792</td><td> 774.0738</td></tr>\n",
       "\t<tr><td> 88.23066</td><td> 60.28674</td><td> 654.3654</td></tr>\n",
       "\t<tr><td>162.71499</td><td> 79.77559</td><td> 752.7695</td></tr>\n",
       "\t<tr><td>142.06536</td><td>118.87542</td><td> 980.8252</td></tr>\n",
       "\t<tr><td>159.00015</td><td>122.69349</td><td> 749.8692</td></tr>\n",
       "\t<tr><td>110.80842</td><td> 27.75258</td><td> 672.1264</td></tr>\n",
       "\t<tr><td>164.50224</td><td> 11.84052</td><td> 713.3461</td></tr>\n",
       "\t<tr><td>181.75160</td><td>163.39636</td><td>1268.4472</td></tr>\n",
       "\t<tr><td>108.71115</td><td> 52.70075</td><td> 734.2572</td></tr>\n",
       "\t<tr><td>186.09551</td><td>148.36018</td><td>1270.2548</td></tr>\n",
       "\t<tr><td> 96.79118</td><td> 70.78447</td><td> 811.4936</td></tr>\n",
       "\t<tr><td>199.23844</td><td> 98.26209</td><td> 992.6849</td></tr>\n",
       "\t<tr><td>168.22309</td><td>139.81462</td><td>1186.6710</td></tr>\n",
       "\t<tr><td>172.74421</td><td>198.83078</td><td>1179.2897</td></tr>\n",
       "\t<tr><td>162.18682</td><td> 90.54750</td><td> 860.2410</td></tr>\n",
       "\t<tr><td>⋮</td><td>⋮</td><td>⋮</td></tr>\n",
       "\t<tr><td>186.90264</td><td>238.36455</td><td>1203.1780</td></tr>\n",
       "\t<tr><td> 95.33492</td><td> 49.69347</td><td> 613.9568</td></tr>\n",
       "\t<tr><td>161.16841</td><td>124.83043</td><td> 974.8471</td></tr>\n",
       "\t<tr><td>175.94197</td><td>226.41376</td><td>1352.7030</td></tr>\n",
       "\t<tr><td>165.99507</td><td>132.43111</td><td>1090.1539</td></tr>\n",
       "\t<tr><td>193.53585</td><td> 73.75297</td><td>1032.1139</td></tr>\n",
       "\t<tr><td>110.64963</td><td>175.65946</td><td>1152.8594</td></tr>\n",
       "\t<tr><td>100.38028</td><td>155.62622</td><td>1045.1271</td></tr>\n",
       "\t<tr><td>121.23830</td><td>100.31418</td><td> 829.9900</td></tr>\n",
       "\t<tr><td> 80.95169</td><td>136.38552</td><td> 906.0365</td></tr>\n",
       "\t<tr><td>151.99892</td><td> 85.73184</td><td> 870.7637</td></tr>\n",
       "\t<tr><td>135.52001</td><td>182.93936</td><td>1257.7791</td></tr>\n",
       "\t<tr><td>124.62286</td><td> 88.70383</td><td>1065.2657</td></tr>\n",
       "\t<tr><td>105.07196</td><td>128.43948</td><td>1011.0700</td></tr>\n",
       "\t<tr><td>134.36176</td><td>122.00858</td><td>1034.6938</td></tr>\n",
       "\t<tr><td>155.15786</td><td>109.31440</td><td> 955.5617</td></tr>\n",
       "\t<tr><td>147.10157</td><td>143.31921</td><td>1063.6670</td></tr>\n",
       "\t<tr><td>102.85968</td><td>135.89927</td><td> 895.8371</td></tr>\n",
       "\t<tr><td>188.59429</td><td>137.38265</td><td>1095.5813</td></tr>\n",
       "\t<tr><td>141.80995</td><td> 87.36354</td><td> 842.6204</td></tr>\n",
       "\t<tr><td> 92.79014</td><td>110.18822</td><td>1036.4753</td></tr>\n",
       "\t<tr><td> 99.04391</td><td>161.87952</td><td>1195.9879</td></tr>\n",
       "\t<tr><td>109.25636</td><td>122.09209</td><td>1042.5502</td></tr>\n",
       "\t<tr><td>158.61932</td><td>144.07481</td><td> 902.5770</td></tr>\n",
       "\t<tr><td>197.17939</td><td> 43.96524</td><td> 872.6505</td></tr>\n",
       "\t<tr><td>195.05380</td><td>117.49899</td><td>1089.3184</td></tr>\n",
       "\t<tr><td>190.86976</td><td>147.20739</td><td> 986.9080</td></tr>\n",
       "\t<tr><td> 98.38525</td><td> 51.57313</td><td> 731.2438</td></tr>\n",
       "\t<tr><td>131.06793</td><td> 84.55996</td><td> 838.6425</td></tr>\n",
       "\t<tr><td>128.08486</td><td> 82.11751</td><td> 908.8708</td></tr>\n",
       "</tbody>\n",
       "</table>\n"
      ],
      "text/latex": [
       "A data.frame: 100 × 3\n",
       "\\begin{tabular}{lll}\n",
       " age & x & c\\\\\n",
       " <dbl> & <dbl> & <dbl>\\\\\n",
       "\\hline\n",
       "\t 193.35634 & 172.46975 & 1234.6240\\\\\n",
       "\t 151.71249 & 106.23128 & 1030.7565\\\\\n",
       "\t 153.50371 & 178.27817 & 1030.8008\\\\\n",
       "\t 159.54579 & 113.42089 & 1014.7738\\\\\n",
       "\t 117.10238 & 188.24716 & 1148.1027\\\\\n",
       "\t 149.80362 &  89.29308 &  829.3347\\\\\n",
       "\t 184.76902 &  63.92314 &  879.9070\\\\\n",
       "\t 125.39324 & 115.23982 &  921.9536\\\\\n",
       "\t 123.75059 & 191.66910 & 1263.2273\\\\\n",
       "\t 193.82764 & 207.61256 & 1193.9644\\\\\n",
       "\t 132.41002 & 103.21759 &  959.2061\\\\\n",
       "\t 192.63324 & 177.02935 & 1112.2806\\\\\n",
       "\t 136.32424 & 130.26913 &  983.8593\\\\\n",
       "\t 174.32868 & 167.43215 & 1033.3116\\\\\n",
       "\t 128.47832 & 170.53507 & 1010.0493\\\\\n",
       "\t 188.76863 &  55.12792 &  774.0738\\\\\n",
       "\t  88.23066 &  60.28674 &  654.3654\\\\\n",
       "\t 162.71499 &  79.77559 &  752.7695\\\\\n",
       "\t 142.06536 & 118.87542 &  980.8252\\\\\n",
       "\t 159.00015 & 122.69349 &  749.8692\\\\\n",
       "\t 110.80842 &  27.75258 &  672.1264\\\\\n",
       "\t 164.50224 &  11.84052 &  713.3461\\\\\n",
       "\t 181.75160 & 163.39636 & 1268.4472\\\\\n",
       "\t 108.71115 &  52.70075 &  734.2572\\\\\n",
       "\t 186.09551 & 148.36018 & 1270.2548\\\\\n",
       "\t  96.79118 &  70.78447 &  811.4936\\\\\n",
       "\t 199.23844 &  98.26209 &  992.6849\\\\\n",
       "\t 168.22309 & 139.81462 & 1186.6710\\\\\n",
       "\t 172.74421 & 198.83078 & 1179.2897\\\\\n",
       "\t 162.18682 &  90.54750 &  860.2410\\\\\n",
       "\t ⋮ & ⋮ & ⋮\\\\\n",
       "\t 186.90264 & 238.36455 & 1203.1780\\\\\n",
       "\t  95.33492 &  49.69347 &  613.9568\\\\\n",
       "\t 161.16841 & 124.83043 &  974.8471\\\\\n",
       "\t 175.94197 & 226.41376 & 1352.7030\\\\\n",
       "\t 165.99507 & 132.43111 & 1090.1539\\\\\n",
       "\t 193.53585 &  73.75297 & 1032.1139\\\\\n",
       "\t 110.64963 & 175.65946 & 1152.8594\\\\\n",
       "\t 100.38028 & 155.62622 & 1045.1271\\\\\n",
       "\t 121.23830 & 100.31418 &  829.9900\\\\\n",
       "\t  80.95169 & 136.38552 &  906.0365\\\\\n",
       "\t 151.99892 &  85.73184 &  870.7637\\\\\n",
       "\t 135.52001 & 182.93936 & 1257.7791\\\\\n",
       "\t 124.62286 &  88.70383 & 1065.2657\\\\\n",
       "\t 105.07196 & 128.43948 & 1011.0700\\\\\n",
       "\t 134.36176 & 122.00858 & 1034.6938\\\\\n",
       "\t 155.15786 & 109.31440 &  955.5617\\\\\n",
       "\t 147.10157 & 143.31921 & 1063.6670\\\\\n",
       "\t 102.85968 & 135.89927 &  895.8371\\\\\n",
       "\t 188.59429 & 137.38265 & 1095.5813\\\\\n",
       "\t 141.80995 &  87.36354 &  842.6204\\\\\n",
       "\t  92.79014 & 110.18822 & 1036.4753\\\\\n",
       "\t  99.04391 & 161.87952 & 1195.9879\\\\\n",
       "\t 109.25636 & 122.09209 & 1042.5502\\\\\n",
       "\t 158.61932 & 144.07481 &  902.5770\\\\\n",
       "\t 197.17939 &  43.96524 &  872.6505\\\\\n",
       "\t 195.05380 & 117.49899 & 1089.3184\\\\\n",
       "\t 190.86976 & 147.20739 &  986.9080\\\\\n",
       "\t  98.38525 &  51.57313 &  731.2438\\\\\n",
       "\t 131.06793 &  84.55996 &  838.6425\\\\\n",
       "\t 128.08486 &  82.11751 &  908.8708\\\\\n",
       "\\end{tabular}\n"
      ],
      "text/markdown": [
       "\n",
       "A data.frame: 100 × 3\n",
       "\n",
       "| age &lt;dbl&gt; | x &lt;dbl&gt; | c &lt;dbl&gt; |\n",
       "|---|---|---|\n",
       "| 193.35634 | 172.46975 | 1234.6240 |\n",
       "| 151.71249 | 106.23128 | 1030.7565 |\n",
       "| 153.50371 | 178.27817 | 1030.8008 |\n",
       "| 159.54579 | 113.42089 | 1014.7738 |\n",
       "| 117.10238 | 188.24716 | 1148.1027 |\n",
       "| 149.80362 |  89.29308 |  829.3347 |\n",
       "| 184.76902 |  63.92314 |  879.9070 |\n",
       "| 125.39324 | 115.23982 |  921.9536 |\n",
       "| 123.75059 | 191.66910 | 1263.2273 |\n",
       "| 193.82764 | 207.61256 | 1193.9644 |\n",
       "| 132.41002 | 103.21759 |  959.2061 |\n",
       "| 192.63324 | 177.02935 | 1112.2806 |\n",
       "| 136.32424 | 130.26913 |  983.8593 |\n",
       "| 174.32868 | 167.43215 | 1033.3116 |\n",
       "| 128.47832 | 170.53507 | 1010.0493 |\n",
       "| 188.76863 |  55.12792 |  774.0738 |\n",
       "|  88.23066 |  60.28674 |  654.3654 |\n",
       "| 162.71499 |  79.77559 |  752.7695 |\n",
       "| 142.06536 | 118.87542 |  980.8252 |\n",
       "| 159.00015 | 122.69349 |  749.8692 |\n",
       "| 110.80842 |  27.75258 |  672.1264 |\n",
       "| 164.50224 |  11.84052 |  713.3461 |\n",
       "| 181.75160 | 163.39636 | 1268.4472 |\n",
       "| 108.71115 |  52.70075 |  734.2572 |\n",
       "| 186.09551 | 148.36018 | 1270.2548 |\n",
       "|  96.79118 |  70.78447 |  811.4936 |\n",
       "| 199.23844 |  98.26209 |  992.6849 |\n",
       "| 168.22309 | 139.81462 | 1186.6710 |\n",
       "| 172.74421 | 198.83078 | 1179.2897 |\n",
       "| 162.18682 |  90.54750 |  860.2410 |\n",
       "| ⋮ | ⋮ | ⋮ |\n",
       "| 186.90264 | 238.36455 | 1203.1780 |\n",
       "|  95.33492 |  49.69347 |  613.9568 |\n",
       "| 161.16841 | 124.83043 |  974.8471 |\n",
       "| 175.94197 | 226.41376 | 1352.7030 |\n",
       "| 165.99507 | 132.43111 | 1090.1539 |\n",
       "| 193.53585 |  73.75297 | 1032.1139 |\n",
       "| 110.64963 | 175.65946 | 1152.8594 |\n",
       "| 100.38028 | 155.62622 | 1045.1271 |\n",
       "| 121.23830 | 100.31418 |  829.9900 |\n",
       "|  80.95169 | 136.38552 |  906.0365 |\n",
       "| 151.99892 |  85.73184 |  870.7637 |\n",
       "| 135.52001 | 182.93936 | 1257.7791 |\n",
       "| 124.62286 |  88.70383 | 1065.2657 |\n",
       "| 105.07196 | 128.43948 | 1011.0700 |\n",
       "| 134.36176 | 122.00858 | 1034.6938 |\n",
       "| 155.15786 | 109.31440 |  955.5617 |\n",
       "| 147.10157 | 143.31921 | 1063.6670 |\n",
       "| 102.85968 | 135.89927 |  895.8371 |\n",
       "| 188.59429 | 137.38265 | 1095.5813 |\n",
       "| 141.80995 |  87.36354 |  842.6204 |\n",
       "|  92.79014 | 110.18822 | 1036.4753 |\n",
       "|  99.04391 | 161.87952 | 1195.9879 |\n",
       "| 109.25636 | 122.09209 | 1042.5502 |\n",
       "| 158.61932 | 144.07481 |  902.5770 |\n",
       "| 197.17939 |  43.96524 |  872.6505 |\n",
       "| 195.05380 | 117.49899 | 1089.3184 |\n",
       "| 190.86976 | 147.20739 |  986.9080 |\n",
       "|  98.38525 |  51.57313 |  731.2438 |\n",
       "| 131.06793 |  84.55996 |  838.6425 |\n",
       "| 128.08486 |  82.11751 |  908.8708 |\n",
       "\n"
      ],
      "text/plain": [
       "    age       x         c        \n",
       "1   193.35634 172.46975 1234.6240\n",
       "2   151.71249 106.23128 1030.7565\n",
       "3   153.50371 178.27817 1030.8008\n",
       "4   159.54579 113.42089 1014.7738\n",
       "5   117.10238 188.24716 1148.1027\n",
       "6   149.80362  89.29308  829.3347\n",
       "7   184.76902  63.92314  879.9070\n",
       "8   125.39324 115.23982  921.9536\n",
       "9   123.75059 191.66910 1263.2273\n",
       "10  193.82764 207.61256 1193.9644\n",
       "11  132.41002 103.21759  959.2061\n",
       "12  192.63324 177.02935 1112.2806\n",
       "13  136.32424 130.26913  983.8593\n",
       "14  174.32868 167.43215 1033.3116\n",
       "15  128.47832 170.53507 1010.0493\n",
       "16  188.76863  55.12792  774.0738\n",
       "17   88.23066  60.28674  654.3654\n",
       "18  162.71499  79.77559  752.7695\n",
       "19  142.06536 118.87542  980.8252\n",
       "20  159.00015 122.69349  749.8692\n",
       "21  110.80842  27.75258  672.1264\n",
       "22  164.50224  11.84052  713.3461\n",
       "23  181.75160 163.39636 1268.4472\n",
       "24  108.71115  52.70075  734.2572\n",
       "25  186.09551 148.36018 1270.2548\n",
       "26   96.79118  70.78447  811.4936\n",
       "27  199.23844  98.26209  992.6849\n",
       "28  168.22309 139.81462 1186.6710\n",
       "29  172.74421 198.83078 1179.2897\n",
       "30  162.18682  90.54750  860.2410\n",
       "⋮   ⋮         ⋮         ⋮        \n",
       "71  186.90264 238.36455 1203.1780\n",
       "72   95.33492  49.69347  613.9568\n",
       "73  161.16841 124.83043  974.8471\n",
       "74  175.94197 226.41376 1352.7030\n",
       "75  165.99507 132.43111 1090.1539\n",
       "76  193.53585  73.75297 1032.1139\n",
       "77  110.64963 175.65946 1152.8594\n",
       "78  100.38028 155.62622 1045.1271\n",
       "79  121.23830 100.31418  829.9900\n",
       "80   80.95169 136.38552  906.0365\n",
       "81  151.99892  85.73184  870.7637\n",
       "82  135.52001 182.93936 1257.7791\n",
       "83  124.62286  88.70383 1065.2657\n",
       "84  105.07196 128.43948 1011.0700\n",
       "85  134.36176 122.00858 1034.6938\n",
       "86  155.15786 109.31440  955.5617\n",
       "87  147.10157 143.31921 1063.6670\n",
       "88  102.85968 135.89927  895.8371\n",
       "89  188.59429 137.38265 1095.5813\n",
       "90  141.80995  87.36354  842.6204\n",
       "91   92.79014 110.18822 1036.4753\n",
       "92   99.04391 161.87952 1195.9879\n",
       "93  109.25636 122.09209 1042.5502\n",
       "94  158.61932 144.07481  902.5770\n",
       "95  197.17939  43.96524  872.6505\n",
       "96  195.05380 117.49899 1089.3184\n",
       "97  190.86976 147.20739  986.9080\n",
       "98   98.38525  51.57313  731.2438\n",
       "99  131.06793  84.55996  838.6425\n",
       "100 128.08486  82.11751  908.8708"
      ]
     },
     "metadata": {},
     "output_type": "display_data"
    }
   ],
   "source": [
    "sample_size = 100 # How many children in data set? \n",
    "age_lo = 80     # minimum age, in months\n",
    "age_hi = 200    # maximum age, in months\n",
    "beta_xa = 0.5   # amount by which experience changes for increase of one month in age\n",
    "beta_x0 = -5    # amount of experience when age = 0 (not interpretable, since minimum age for this data is 80 months)\n",
    "sd_x = 50       # standard dev of gaussian noise term, epsilon_x\n",
    "beta_ca = 0.8   # amount that comprehension score improves for every increase of one unit in age\n",
    "beta_cx = 3     # amount that comprehension score improves for every increase of one unit in reading experience\n",
    "beta_c0 = 10    # comprehension score when reading experience is 0. \n",
    "sd_c = 85      # standard dev of gaussian noise term, epsilon_c\n",
    "\n",
    "simulate_data <- function(sample_size, age_lo, age_hi, beta_xa, beta_x0, sd_x, beta_ca, beta_cx, beta_c0, sd_c) {\n",
    "    age <- runif(sample_size, min = age_lo, max = age_hi)\n",
    "    \n",
    "    x_no_noise <- beta_xa * age + beta_x0 \n",
    "    noise_x <- rnorm(sample_size, mean(x_no_noise), sd_x)\n",
    "    x <- x_no_noise + noise_x\n",
    "    \n",
    "    c_no_noise <- beta_ca * age + beta_cx * x + beta_c0\n",
    "    noise_c <- rnorm(sample_size, mean(c_no_noise), sd_c)\n",
    "    c <- c_no_noise + noise_c\n",
    "    \n",
    "      return(data.frame(age=age,x=x,c=c)) # it's actually bad form to have a variable named \"c\" in R, my bad...\n",
    "}\n",
    "\n",
    "dat <- simulate_data(sample_size, age_lo, age_hi, beta_xa, beta_x0, sd_x, beta_ca, beta_cx, beta_c0, sd_c)\n",
    "dat"
   ]
  },
  {
   "cell_type": "markdown",
   "metadata": {
    "id": "I-Rt8PFe_G5O"
   },
   "source": [
    "---\n",
    "## 2. Visualizing Data (1 point)"
   ]
  },
  {
   "cell_type": "markdown",
   "metadata": {
    "id": "MQdcoYCLvuDf"
   },
   "source": [
    "Load the `tidyverse` library."
   ]
  },
  {
   "cell_type": "code",
   "execution_count": 2,
   "metadata": {
    "colab": {
     "base_uri": "https://localhost:8080/"
    },
    "executionInfo": {
     "elapsed": 2577,
     "status": "ok",
     "timestamp": 1619476628267,
     "user": {
      "displayName": "Patience Stevens",
      "photoUrl": "https://lh3.googleusercontent.com/a-/AOh14Gi-_9ZqhIFhAv1oMehJNvNuIKSTyrFQHzjxQKhx=s64",
      "userId": "01994571539255174942"
     },
     "user_tz": 240
    },
    "id": "H07EMQCwvzsL",
    "outputId": "40233b4a-b954-4865-8a3f-b402221b2c1e",
    "scrolled": true
   },
   "outputs": [
    {
     "name": "stderr",
     "output_type": "stream",
     "text": [
      "── \u001b[1mAttaching packages\u001b[22m ─────────────────────────────────────── tidyverse 1.3.1 ──\n",
      "\n",
      "\u001b[32m✔\u001b[39m \u001b[34mggplot2\u001b[39m 3.3.5     \u001b[32m✔\u001b[39m \u001b[34mpurrr  \u001b[39m 0.3.4\n",
      "\u001b[32m✔\u001b[39m \u001b[34mtibble \u001b[39m 3.1.6     \u001b[32m✔\u001b[39m \u001b[34mdplyr  \u001b[39m 1.0.8\n",
      "\u001b[32m✔\u001b[39m \u001b[34mtidyr  \u001b[39m 1.2.0     \u001b[32m✔\u001b[39m \u001b[34mstringr\u001b[39m 1.4.0\n",
      "\u001b[32m✔\u001b[39m \u001b[34mreadr  \u001b[39m 2.1.2     \u001b[32m✔\u001b[39m \u001b[34mforcats\u001b[39m 0.5.1\n",
      "\n",
      "── \u001b[1mConflicts\u001b[22m ────────────────────────────────────────── tidyverse_conflicts() ──\n",
      "\u001b[31m✖\u001b[39m \u001b[34mdplyr\u001b[39m::\u001b[32mfilter()\u001b[39m masks \u001b[34mstats\u001b[39m::filter()\n",
      "\u001b[31m✖\u001b[39m \u001b[34mdplyr\u001b[39m::\u001b[32mlag()\u001b[39m    masks \u001b[34mstats\u001b[39m::lag()\n",
      "\n"
     ]
    }
   ],
   "source": [
    "library(tidyverse)\n",
    "\n"
   ]
  },
  {
   "cell_type": "markdown",
   "metadata": {
    "id": "Vgc2ehTKv1jt"
   },
   "source": [
    "a) Plot the relationship between age and reading comprehension. "
   ]
  },
  {
   "cell_type": "code",
   "execution_count": 3,
   "metadata": {
    "colab": {
     "base_uri": "https://localhost:8080/",
     "height": 472
    },
    "executionInfo": {
     "elapsed": 2024,
     "status": "ok",
     "timestamp": 1619476632213,
     "user": {
      "displayName": "Patience Stevens",
      "photoUrl": "https://lh3.googleusercontent.com/a-/AOh14Gi-_9ZqhIFhAv1oMehJNvNuIKSTyrFQHzjxQKhx=s64",
      "userId": "01994571539255174942"
     },
     "user_tz": 240
    },
    "id": "Pb-KYXwuwS28",
    "outputId": "2bd7e93e-f464-4703-f2ca-b3a0ed04057b"
   },
   "outputs": [
    {
     "data": {
      "image/png": "[encoded data removed]",
      "text/plain": [
       "plot without title"
      ]
     },
     "metadata": {
      "image/png": {
       "height": 420,
       "width": 420
      }
     },
     "output_type": "display_data"
    }
   ],
   "source": [
    "age_c_plot <- ggplot(aes(x = age, y = c), data = dat) +\n",
    "geom_point() +\n",
    "geom_smooth(method = 'lm', formula = y ~ x)\n",
    "\n",
    "age_c_plot\n",
    "\n"
   ]
  },
  {
   "cell_type": "markdown",
   "metadata": {
    "id": "CB_8CsBZwQqW"
   },
   "source": [
    "b) Plot the relationship between reading experience, age, and reading comprehension."
   ]
  },
  {
   "cell_type": "code",
   "execution_count": 4,
   "metadata": {
    "colab": {
     "base_uri": "https://localhost:8080/",
     "height": 436
    },
    "executionInfo": {
     "elapsed": 760,
     "status": "ok",
     "timestamp": 1619476634598,
     "user": {
      "displayName": "Patience Stevens",
      "photoUrl": "https://lh3.googleusercontent.com/a-/AOh14Gi-_9ZqhIFhAv1oMehJNvNuIKSTyrFQHzjxQKhx=s64",
      "userId": "01994571539255174942"
     },
     "user_tz": 240
    },
    "id": "VeSOCXlMweSz",
    "outputId": "0169bcb7-8ba9-4754-f7af-914a9adfea15"
   },
   "outputs": [
    {
     "data": {
      "image/png": "[encoded data removed]",
      "text/plain": [
       "plot without title"
      ]
     },
     "metadata": {
      "image/png": {
       "height": 420,
       "width": 420
      }
     },
     "output_type": "display_data"
    }
   ],
   "source": [
    "age_c_x_plot <- ggplot(aes(x = age, y = c, color = x), data = dat) +\n",
    "geom_point()\n",
    "\n",
    "age_c_x_plot\n",
    "\n",
    "#I couldn't figure out how to get a regression line on this one, I hope I still satisfy the requirements for this question"
   ]
  },
  {
   "cell_type": "markdown",
   "metadata": {
    "id": "BeK0H64WlOBM"
   },
   "source": [
    "---\n",
    "## 3. Mediation Analysis (3 points)"
   ]
  },
  {
   "cell_type": "markdown",
   "metadata": {
    "id": "dP_6o9rpmThw"
   },
   "source": [
    "Load the `mediation` library."
   ]
  },
  {
   "cell_type": "code",
   "execution_count": 7,
   "metadata": {},
   "outputs": [
    {
     "name": "stderr",
     "output_type": "stream",
     "text": [
      "also installing the dependencies ‘png’, ‘jpeg’, ‘checkmate’, ‘htmlwidgets’, ‘zoo’, ‘Formula’, ‘latticeExtra’, ‘gridExtra’, ‘htmlTable’, ‘viridis’, ‘mvtnorm’, ‘sandwich’, ‘lpSolve’, ‘Hmisc’\n",
      "\n",
      "\n"
     ]
    },
    {
     "name": "stdout",
     "output_type": "stream",
     "text": [
      "\n",
      "The downloaded binary packages are in\n",
      "\t/var/folders/1z/t3c0jklx1v70qk4jxjj4kx_h0000gn/T//RtmpsNqCp3/downloaded_packages\n"
     ]
    }
   ],
   "source": [
    "install.packages('mediation')"
   ]
  },
  {
   "cell_type": "code",
   "execution_count": 8,
   "metadata": {},
   "outputs": [
    {
     "name": "stderr",
     "output_type": "stream",
     "text": [
      "Loading required package: MASS\n",
      "\n",
      "\n",
      "Attaching package: ‘MASS’\n",
      "\n",
      "\n",
      "The following object is masked from ‘package:dplyr’:\n",
      "\n",
      "    select\n",
      "\n",
      "\n",
      "Loading required package: Matrix\n",
      "\n",
      "\n",
      "Attaching package: ‘Matrix’\n",
      "\n",
      "\n",
      "The following objects are masked from ‘package:tidyr’:\n",
      "\n",
      "    expand, pack, unpack\n",
      "\n",
      "\n",
      "Loading required package: mvtnorm\n",
      "\n",
      "Loading required package: sandwich\n",
      "\n",
      "mediation: Causal Mediation Analysis\n",
      "Version: 4.5.0\n",
      "\n",
      "\n"
     ]
    }
   ],
   "source": [
    "library(mediation)"
   ]
  },
  {
   "cell_type": "markdown",
   "metadata": {
    "id": "Q1UM2Qhx6Kk-"
   },
   "source": [
    "Use the `mediate` function to determine whether `x` mediates the relationship between `age` and `c`. Use `summary()` to print the model results. *Hint: see the mediation and moderation tutorial.*"
   ]
  },
  {
   "cell_type": "code",
   "execution_count": 14,
   "metadata": {
    "colab": {
     "base_uri": "https://localhost:8080/",
     "height": 318
    },
    "executionInfo": {
     "elapsed": 3862,
     "status": "ok",
     "timestamp": 1619477561914,
     "user": {
      "displayName": "Patience Stevens",
      "photoUrl": "https://lh3.googleusercontent.com/a-/AOh14Gi-_9ZqhIFhAv1oMehJNvNuIKSTyrFQHzjxQKhx=s64",
      "userId": "01994571539255174942"
     },
     "user_tz": 240
    },
    "id": "9h1ySgXm4HWm",
    "outputId": "0a67fd2d-ff1f-432a-b4b4-b4f937e9e4c9"
   },
   "outputs": [
    {
     "data": {
      "text/plain": [
       "\n",
       "Call:\n",
       "lm(formula = x ~ age, data = dat)\n",
       "\n",
       "Residuals:\n",
       "     Min       1Q   Median       3Q      Max \n",
       "-123.011  -32.337   -1.508   28.858  118.459 \n",
       "\n",
       "Coefficients:\n",
       "            Estimate Std. Error t value Pr(>|t|)   \n",
       "(Intercept)  64.9255    20.2865   3.200  0.00185 **\n",
       "age           0.4251     0.1378   3.085  0.00264 **\n",
       "---\n",
       "Signif. codes:  0 ‘***’ 0.001 ‘**’ 0.01 ‘*’ 0.05 ‘.’ 0.1 ‘ ’ 1\n",
       "\n",
       "Residual standard error: 46.57 on 98 degrees of freedom\n",
       "Multiple R-squared:  0.08854,\tAdjusted R-squared:  0.07923 \n",
       "F-statistic: 9.519 on 1 and 98 DF,  p-value: 0.002643\n"
      ]
     },
     "metadata": {},
     "output_type": "display_data"
    },
    {
     "data": {
      "text/plain": [
       "\n",
       "Call:\n",
       "lm(formula = c ~ age + x, data = dat)\n",
       "\n",
       "Residuals:\n",
       "     Min       1Q   Median       3Q      Max \n",
       "-255.787  -58.997    4.363   55.948  185.417 \n",
       "\n",
       "Coefficients:\n",
       "            Estimate Std. Error t value Pr(>|t|)    \n",
       "(Intercept) 515.6595    38.6905  13.328  < 2e-16 ***\n",
       "age           1.0274     0.2619   3.923 0.000163 ***\n",
       "x             2.6622     0.1833  14.523  < 2e-16 ***\n",
       "---\n",
       "Signif. codes:  0 ‘***’ 0.001 ‘**’ 0.01 ‘*’ 0.05 ‘.’ 0.1 ‘ ’ 1\n",
       "\n",
       "Residual standard error: 84.51 on 97 degrees of freedom\n",
       "Multiple R-squared:  0.7464,\tAdjusted R-squared:  0.7412 \n",
       "F-statistic: 142.7 on 2 and 97 DF,  p-value: < 2.2e-16\n"
      ]
     },
     "metadata": {},
     "output_type": "display_data"
    },
    {
     "data": {
      "text/plain": [
       "\n",
       "Causal Mediation Analysis \n",
       "\n",
       "Quasi-Bayesian Confidence Intervals\n",
       "\n",
       "               Estimate 95% CI Lower 95% CI Upper p-value    \n",
       "ACME              1.131        0.411         1.91   0.002 ** \n",
       "ADE               1.032        0.464         1.55  <2e-16 ***\n",
       "Total Effect      2.163        1.319         3.02  <2e-16 ***\n",
       "Prop. Mediated    0.524        0.248         0.74   0.002 ** \n",
       "---\n",
       "Signif. codes:  0 ‘***’ 0.001 ‘**’ 0.01 ‘*’ 0.05 ‘.’ 0.1 ‘ ’ 1\n",
       "\n",
       "Sample Size Used: 100 \n",
       "\n",
       "\n",
       "Simulations: 1000 \n"
      ]
     },
     "metadata": {},
     "output_type": "display_data"
    }
   ],
   "source": [
    "#Using the method from the mediation and moderation tutorial\n",
    "\n",
    "fitM <- lm(x ~ age, data = dat)\n",
    "fitY <- lm(c ~ age + x, data = dat)\n",
    "summary(fitM)\n",
    "summary(fitY)\n",
    "\n",
    "fit_med <- mediate(fitM, fitY, treat = 'age', mediator = 'x')\n",
    "\n",
    "summary(fit_med)\n"
   ]
  },
  {
   "cell_type": "markdown",
   "metadata": {
    "id": "L5rCNjcs6UVD"
   },
   "source": [
    "How do you interpret these results? Why do you think the analysis yielded this result? \n",
    "> Because we see a significant ACME result, we can interpret this output as saying that x (experience) has a mediating effect on c (reading comprehension) through age.  This means that, when we hold age constant and vary reading experience, we see a significant change in reading comprehension.  We also see the opposite effect (a direct effect between age and c) through the ADE result, which says that age will influence c while holding x constant.  The analysis yielded these results because we see that, through our two original models, age is a significant predictor for reading experience, and both age and reading experience are a significant predictor for reading comprehension.  Thus, we would expect a correlation between all three of these variables.  One more thing I thought of that may be inconsequential is that because we generated x using age, and c using x and age, we would expect to see these variables predict each other (and for x to mediate the relationship between age and c).  Overall, though, the analysis yielded these results because reading experience is a predictor for reading comprehension, and is also directly predictable by age, so we could probably infer from the beginning that x would mediate the relationship between age and c.  "
   ]
  },
  {
   "cell_type": "markdown",
   "metadata": {
    "id": "T3b3_KsHk-xD"
   },
   "source": [
    "---\n",
    "## 4. Power Analysis via Simulation (4 points)"
   ]
  },
  {
   "cell_type": "markdown",
   "metadata": {
    "id": "TJyPIaTO8zCS"
   },
   "source": [
    "Now we're going to use our `simulate_data()` function to conduct a power analysis. The goal is to determine how many participants we would need in order to detect both the mediated and the direct effects in this data. \n",
    "\n",
    "*Note: We're going to pretend for the sake of simplicity that we don't have any control over the ages of the children we get (so ages are generated using `runif(sample_size, age_lo, age_hi)`, although of course this would be an unusual situation in reality.*\n",
    "\n",
    "First, write a function, `run_analysis()`, that takes in simulated data and returns a vector containing the ACME and ADE estimates and p-values (these are the `d0`, `d0.p`, `z0`, and `z0.p` features of the mediated model object, e.g., `fitMed$d0.p`). Print this function's output for the data we simulated previously. "
   ]
  },
  {
   "cell_type": "code",
   "execution_count": 30,
   "metadata": {
    "colab": {
     "base_uri": "https://localhost:8080/",
     "height": 33
    },
    "executionInfo": {
     "elapsed": 3178,
     "status": "ok",
     "timestamp": 1619478255711,
     "user": {
      "displayName": "Patience Stevens",
      "photoUrl": "https://lh3.googleusercontent.com/a-/AOh14Gi-_9ZqhIFhAv1oMehJNvNuIKSTyrFQHzjxQKhx=s64",
      "userId": "01994571539255174942"
     },
     "user_tz": 240
    },
    "id": "AidH_KidrX9L",
    "outputId": "1d3b1ccb-c90e-42cc-eba2-929dc04e3d83"
   },
   "outputs": [
    {
     "name": "stdout",
     "output_type": "stream",
     "text": [
      "[1] 1.138627 0.002000 1.032559 0.000000\n"
     ]
    }
   ],
   "source": [
    "run_analysis <- function(data){\n",
    "    fitM2 <- lm(x ~ age, data = data)\n",
    "    fitY2 <- lm(c ~ age + x, data = data)\n",
    "    fit_med2 <- mediate(fitM2, fitY2, treat = 'age', mediator = 'x', boot = FALSE)\n",
    "    return(c(fit_med2$d0, fit_med2$d0.p, fit_med2$z0, fit_med2$z0.p))\n",
    "}\n",
    "\n",
    "print(run_analysis(dat))\n"
   ]
  },
  {
   "cell_type": "markdown",
   "metadata": {
    "id": "G_jvc1XQBCpH"
   },
   "source": [
    "Next fill in the function `repeat_analysis()` below so that it simulates and analyzes data `num_simulations` times. Store the outputs from each simulation in the `simouts` matrix. Calculate and return the coverage across all the simulations run for both ACME and ADE."
   ]
  },
  {
   "cell_type": "code",
   "execution_count": 32,
   "metadata": {
    "id": "NheOpBDsBBo9"
   },
   "outputs": [],
   "source": [
    "repeat_analysis <- function(num_simulations, alpha, sample_size, age_lo, age_hi, \n",
    "        beta_xa, beta_x0, sd_x, beta_ca, beta_cx, beta_c0, sd_c) {\n",
    "    # Initialize simouts matrix for storing each output from run_analysis()\n",
    "    simouts <- matrix(rep(NA,num_simulations*4), nrow=num_simulations,ncol=4)\n",
    "    \n",
    "    # Start simulating\n",
    "    for (i in 1:num_simulations) {\n",
    "        data <- simulate_data(sample_size, age_lo, age_hi, beta_xa, beta_x0, sd_x, beta_ca, beta_cx, beta_c0, sd_c)\n",
    "        simouts[i,] <- run_analysis(data)\n",
    "    }\n",
    "    \n",
    "    # Calculate coverage for both ACME and ADE estimates using p-values in simouts\n",
    "    ACME_cov =  mean(simouts[,2] <= alpha)\n",
    "    ADE_cov =  mean(simouts[,4] <= alpha)\n",
    "\n",
    "    return(list(ACME_cov = ACME_cov, ADE_cov = ADE_cov))\n",
    "}"
   ]
  },
  {
   "cell_type": "markdown",
   "metadata": {
    "id": "bM5J5pYyQoRL"
   },
   "source": [
    "Now run the `repeat_analysis()` function using the same parameter settings as above, for 10 simulations, with an alpha criterion of 0.01. "
   ]
  },
  {
   "cell_type": "code",
   "execution_count": 33,
   "metadata": {
    "colab": {
     "base_uri": "https://localhost:8080/",
     "height": 111
    },
    "executionInfo": {
     "elapsed": 28603,
     "status": "ok",
     "timestamp": 1619478300572,
     "user": {
      "displayName": "Patience Stevens",
      "photoUrl": "https://lh3.googleusercontent.com/a-/AOh14Gi-_9ZqhIFhAv1oMehJNvNuIKSTyrFQHzjxQKhx=s64",
      "userId": "01994571539255174942"
     },
     "user_tz": 240
    },
    "id": "RpURGbZQQlEK",
    "outputId": "273ddde3-5196-4abc-b886-2651e8928896"
   },
   "outputs": [
    {
     "data": {
      "text/html": [
       "<dl>\n",
       "\t<dt>$ACME_cov</dt>\n",
       "\t\t<dd>0.9</dd>\n",
       "\t<dt>$ADE_cov</dt>\n",
       "\t\t<dd>0.6</dd>\n",
       "</dl>\n"
      ],
      "text/latex": [
       "\\begin{description}\n",
       "\\item[\\$ACME\\_cov] 0.9\n",
       "\\item[\\$ADE\\_cov] 0.6\n",
       "\\end{description}\n"
      ],
      "text/markdown": [
       "$ACME_cov\n",
       ":   0.9\n",
       "$ADE_cov\n",
       ":   0.6\n",
       "\n",
       "\n"
      ],
      "text/plain": [
       "$ACME_cov\n",
       "[1] 0.9\n",
       "\n",
       "$ADE_cov\n",
       "[1] 0.6\n"
      ]
     },
     "metadata": {},
     "output_type": "display_data"
    }
   ],
   "source": [
    "results <- repeat_analysis(10, 0.01, sample_size, age_lo, age_hi, beta_xa, beta_x0, sd_x, beta_ca, beta_cx, beta_c0, sd_c)\n",
    "\n",
    "results\n",
    "\n"
   ]
  },
  {
   "cell_type": "markdown",
   "metadata": {
    "id": "CzeTaoY7SaXv"
   },
   "source": [
    "Finally, do the same thing (10 simulations, alpha criterion of 0.01) but for 5 different sample sizes: 50, 75, 100, 125, 150. You can do this using `map` (as in the tutorial), or a simple `for` loop, or by calculating each individually. Up to you! This should take around 3 minutes to run. "
   ]
  },
  {
   "cell_type": "code",
   "execution_count": 34,
   "metadata": {
    "colab": {
     "base_uri": "https://localhost:8080/"
    },
    "executionInfo": {
     "elapsed": 139144,
     "status": "ok",
     "timestamp": 1617817443716,
     "user": {
      "displayName": "Patience Stevens",
      "photoUrl": "https://lh3.googleusercontent.com/a-/AOh14Gi-_9ZqhIFhAv1oMehJNvNuIKSTyrFQHzjxQKhx=s64",
      "userId": "01994571539255174942"
     },
     "user_tz": 240
    },
    "id": "mp-a19XsS8Md",
    "outputId": "40cd5e8c-db99-4cb9-f99f-88a4ff276751"
   },
   "outputs": [
    {
     "name": "stdout",
     "output_type": "stream",
     "text": [
      "[1] \"size: 50 0.6\" \"size: 50 0.5\"\n",
      "[1] \"size: 75 0.8\" \"size: 75 0.7\"\n",
      "[1] \"size: 100 1\"   \"size: 100 0.4\"\n",
      "[1] \"size: 125 0.7\" \"size: 125 1\"  \n",
      "[1] \"size: 150 1\" \"size: 150 1\"\n"
     ]
    }
   ],
   "source": [
    "for (size in c(50, 75, 100, 125, 150)){\n",
    "    analysis <- repeat_analysis(10, 0.01, size, age_lo, age_hi, beta_xa, beta_x0, sd_x, beta_ca, beta_cx, beta_c0, sd_c)\n",
    "    print(paste('size:', size, analysis))\n",
    "}\n",
    "\n"
   ]
  },
  {
   "cell_type": "markdown",
   "metadata": {
    "id": "akJwKCB7dkDw"
   },
   "source": [
    "Print your results. "
   ]
  },
  {
   "cell_type": "markdown",
   "metadata": {
    "colab": {
     "base_uri": "https://localhost:8080/",
     "height": 252
    },
    "executionInfo": {
     "elapsed": 699,
     "status": "ok",
     "timestamp": 1617817897166,
     "user": {
      "displayName": "Patience Stevens",
      "photoUrl": "https://lh3.googleusercontent.com/a-/AOh14Gi-_9ZqhIFhAv1oMehJNvNuIKSTyrFQHzjxQKhx=s64",
      "userId": "01994571539255174942"
     },
     "user_tz": 240
    },
    "id": "gIkkWTG2aR4d",
    "outputId": "3e1c4b1c-9a8c-49bf-e411-39f4af902076"
   },
   "source": [
    "above\n"
   ]
  },
  {
   "cell_type": "markdown",
   "metadata": {
    "id": "tpbGkul2dr-5"
   },
   "source": [
    "If this were a real power analysis, we'd want to run more simulations per sample size (to get a more precise estimate of power) and we may also want to test out some other values of the parameters we used to simulate our data. However, what would you conclude just based on the results above? \n",
    "\n",
    "> Just based on the results above it doesn't appear that we get a consistently good number of results until we use 150 participants.  If we are to keep the parameters for generating data that we started with, for both of our p-values to be consistently below our alpha threshold of 0.01, we need to have at least 150 participants.  "
   ]
  },
  {
   "cell_type": "markdown",
   "metadata": {
    "id": "RcCo3QOifUi5"
   },
   "source": [
    "**Given** how we generated the data, why was the direct effect harder to detect than the mediated effect?\n",
    "> The direct effect was harder to detect that the mediated effect because we did not generate any reading comprehension data directly from a relationship between age and reading comprehension.  We used age to directly predict reading experience, and then used age AND reading experience to generate reading comprehension, but we never assigned values to reading comprehension based on age alone.  Because the relationship between age and reading experience was present before we generated reading comprehension, we would not expect a direct relationship between age and c to appear as consistently or as easily using this method."
   ]
  },
  {
   "cell_type": "markdown",
   "metadata": {
    "id": "C4MPECMmZXqe"
   },
   "source": [
    "**DUE:** 5pm EST, April 11, 2022"
   ]
  },
  {
   "cell_type": "markdown",
   "metadata": {
    "id": "r9GUofXN4BVy"
   },
   "source": [
    "**IMPORTANT** Did you collaborate with anyone on this assignment? If so, list their names here. \n",
    "> *Someone's Name*"
   ]
  }
 ],
 "metadata": {
  "colab": {
   "collapsed_sections": [],
   "name": "Homework9_solutions.ipynb",
   "provenance": []
  },
  "kernelspec": {
   "display_name": "R",
   "language": "R",
   "name": "ir"
  },
  "language_info": {
   "codemirror_mode": "r",
   "file_extension": ".r",
   "mimetype": "text/x-r-source",
   "name": "R",
   "pygments_lexer": "r",
   "version": "3.6.0"
  }
 },
 "nbformat": 4,
 "nbformat_minor": 1
}
